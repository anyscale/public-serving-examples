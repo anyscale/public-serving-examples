{
 "cells": [
  {
   "cell_type": "markdown",
   "metadata": {},
   "source": [
    "This notebook shows a way to intentionally shutdown replica."
   ]
  },
  {
   "cell_type": "code",
   "execution_count": 1,
   "metadata": {},
   "outputs": [],
   "source": [
    "from ray import serve\n",
    "import ray"
   ]
  },
  {
   "cell_type": "code",
   "execution_count": 2,
   "metadata": {},
   "outputs": [],
   "source": [
    "ray.shutdown()"
   ]
  },
  {
   "cell_type": "code",
   "execution_count": 3,
   "metadata": {},
   "outputs": [
    {
     "name": "stderr",
     "output_type": "stream",
     "text": [
      "2025-03-25 10:19:04,719\tINFO worker.py:1843 -- Started a local Ray instance. View the dashboard at \u001b[1m\u001b[32mhttp://127.0.0.1:8265 \u001b[39m\u001b[22m\n",
      "\u001b[36m(ProxyActor pid=57736)\u001b[0m INFO 2025-03-25 10:19:06,285 proxy 127.0.0.1 -- Proxy starting on node f0a55a1ab10a294066da167dd0bc891513a1071d33a56506a2765cd2 (HTTP port: 8000).\n",
      "INFO 2025-03-25 10:19:06,336 serve 57710 -- Started Serve in namespace \"serve\".\n",
      "\u001b[36m(ProxyActor pid=57736)\u001b[0m INFO 2025-03-25 10:19:06,311 proxy 127.0.0.1 -- Got updated endpoints: {}.\n",
      "\u001b[36m(ServeController pid=57733)\u001b[0m INFO 2025-03-25 10:19:06,439 controller 57733 -- Deploying new version of Deployment(name='MyApp', app='default') (initial target replicas: 1).\n",
      "\u001b[36m(ProxyActor pid=57736)\u001b[0m INFO 2025-03-25 10:19:06,440 proxy 127.0.0.1 -- Got updated endpoints: {Deployment(name='MyApp', app='default'): EndpointInfo(route='/', app_is_cross_language=False)}.\n",
      "\u001b[36m(ProxyActor pid=57736)\u001b[0m INFO 2025-03-25 10:19:06,444 proxy 127.0.0.1 -- Started <ray.serve._private.router.SharedRouterLongPollClient object at 0x126ee3dd0>.\n",
      "\u001b[36m(ServeController pid=57733)\u001b[0m INFO 2025-03-25 10:19:06,540 controller 57733 -- Adding 1 replica to Deployment(name='MyApp', app='default').\n",
      "INFO 2025-03-25 10:19:07,446 serve 57710 -- Application 'default' is ready at http://127.0.0.1:8000/.\n",
      "INFO 2025-03-25 10:19:07,449 serve 57710 -- Started <ray.serve._private.router.SharedRouterLongPollClient object at 0x127259290>.\n"
     ]
    },
    {
     "data": {
      "text/plain": [
       "DeploymentHandle(deployment='MyApp')"
      ]
     },
     "execution_count": 3,
     "metadata": {},
     "output_type": "execute_result"
    }
   ],
   "source": [
    "@serve.deployment\n",
    "class MyApp:\n",
    "    def __init__(self):\n",
    "        pass\n",
    "\n",
    "    def __call__(self):\n",
    "        ray.actor.exit_actor()\n",
    "\n",
    "app = MyApp.bind()\n",
    "\n",
    "serve.run(app)\n"
   ]
  },
  {
   "cell_type": "code",
   "execution_count": 4,
   "metadata": {},
   "outputs": [
    {
     "name": "stdout",
     "output_type": "stream",
     "text": [
      "2.44.0\n"
     ]
    }
   ],
   "source": [
    "# print ray version\n",
    "print(ray.__version__)"
   ]
  },
  {
   "cell_type": "code",
   "execution_count": 5,
   "metadata": {},
   "outputs": [
    {
     "name": "stdout",
     "output_type": "stream",
     "text": [
      "\n",
      "======== List: 2025-03-25 10:19:08.507072 ========\n",
      "Stats:\n",
      "------------------------------\n",
      "Total: 3\n",
      "\n",
      "Table:\n",
      "------------------------------\n",
      "    ACTOR_ID                          CLASS_NAME                  STATE      JOB_ID  NAME                                                                        NODE_ID                                                     PID  RAY_NAMESPACE\n",
      " 0  34f6ac2c7fb1283d255d661b01000000  ServeReplica:default:MyApp  ALIVE    01000000  SERVE_REPLICA::default#MyApp#6eba5m46                                       f0a55a1ab10a294066da167dd0bc891513a1071d33a56506a2765cd2  57744  serve\n",
      " 1  6cec2539ca6407db754b598e01000000  ServeController             ALIVE    01000000  SERVE_CONTROLLER_ACTOR                                                      f0a55a1ab10a294066da167dd0bc891513a1071d33a56506a2765cd2  57733  serve\n",
      " 2  d07337bd97a08912fa7242f801000000  ProxyActor                  ALIVE    01000000  SERVE_PROXY_ACTOR-f0a55a1ab10a294066da167dd0bc891513a1071d33a56506a2765cd2  f0a55a1ab10a294066da167dd0bc891513a1071d33a56506a2765cd2  57736  serve\n",
      "\n",
      "\u001b[0m"
     ]
    }
   ],
   "source": [
    "! ray list actors"
   ]
  },
  {
   "cell_type": "code",
   "execution_count": 6,
   "metadata": {},
   "outputs": [
    {
     "data": {
      "text/plain": [
       "<Response [500]>"
      ]
     },
     "execution_count": 6,
     "metadata": {},
     "output_type": "execute_result"
    }
   ],
   "source": [
    "# make request to the app\n",
    "import requests\n",
    "\n",
    "requests.get(\"http://localhost:8000\")"
   ]
  },
  {
   "cell_type": "code",
   "execution_count": 9,
   "metadata": {},
   "outputs": [
    {
     "name": "stdout",
     "output_type": "stream",
     "text": [
      "\n",
      "======== List: 2025-03-25 10:19:22.214276 ========\n",
      "Stats:\n",
      "------------------------------\n",
      "Total: 4\n",
      "\n",
      "Table:\n",
      "------------------------------\n",
      "    ACTOR_ID                          CLASS_NAME                  STATE      JOB_ID  NAME                                                                        NODE_ID                                                     PID  RAY_NAMESPACE\n",
      " 0  34f6ac2c7fb1283d255d661b01000000  ServeReplica:default:MyApp  DEAD     01000000  SERVE_REPLICA::default#MyApp#6eba5m46                                       f0a55a1ab10a294066da167dd0bc891513a1071d33a56506a2765cd2  57744  serve\n",
      " 1  6cec2539ca6407db754b598e01000000  ServeController             ALIVE    01000000  SERVE_CONTROLLER_ACTOR                                                      f0a55a1ab10a294066da167dd0bc891513a1071d33a56506a2765cd2  57733  serve\n",
      " 2  aab3818ab94dcce67b379bfd01000000  ServeReplica:default:MyApp  ALIVE    01000000  SERVE_REPLICA::default#MyApp#jzyr7gpq                                       f0a55a1ab10a294066da167dd0bc891513a1071d33a56506a2765cd2  57740  serve\n",
      " 3  d07337bd97a08912fa7242f801000000  ProxyActor                  ALIVE    01000000  SERVE_PROXY_ACTOR-f0a55a1ab10a294066da167dd0bc891513a1071d33a56506a2765cd2  f0a55a1ab10a294066da167dd0bc891513a1071d33a56506a2765cd2  57736  serve\n",
      "\n",
      "\u001b[0m"
     ]
    }
   ],
   "source": [
    "! ray list actors"
   ]
  }
 ],
 "metadata": {
  "kernelspec": {
   "display_name": ".venv",
   "language": "python",
   "name": "python3"
  },
  "language_info": {
   "codemirror_mode": {
    "name": "ipython",
    "version": 3
   },
   "file_extension": ".py",
   "mimetype": "text/x-python",
   "name": "python",
   "nbconvert_exporter": "python",
   "pygments_lexer": "ipython3",
   "version": "3.11.11"
  }
 },
 "nbformat": 4,
 "nbformat_minor": 2
}
