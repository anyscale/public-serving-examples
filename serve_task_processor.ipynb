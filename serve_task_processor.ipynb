{
 "cells": [
  {
   "cell_type": "markdown",
   "metadata": {},
   "source": [
    "# Async Task Processing in Ray Serve\n",
    "\n",
    "## Problem Statement\n",
    "\n",
    "Ray Serve customers need a way to handle long-running API requests asynchronously. For example, when a user requests video or document indexing, the system should enqueue the task in a background queue for later processing. The API should return a quick response while the task executes asynchronously.\n",
    "\n",
    "## Traditional Solution and Its Challenges\n",
    "\n",
    "A common approach is to use a message broker to queue tasks and a stream processor to handle them asynchronously. However, this introduces complexity for customers who lack the infrastructure for online stream processing, requiring them to manage and scale additional components.\n",
    "\n",
    "If image dont show up see `stream_processor.png`.\n",
    "<img src=\"stream_processor.png\" width=\"800\" />\n",
    "\n",
    "## Proposed Solution\n",
    "\n",
    "For Anyscale customers using Ray Serve, we propose hosting **Celery Workers as Ray Serve Deployments**. Since Celery supports various message brokers (e.g., SQS, Redis, RabbitMQ), users can bring their own message brokers for async task queuing.\n",
    "\n",
    "This approach slightly deviates from Ray Serve’s original request-response model by enabling it to support long-running stream processing applications.\n",
    "\n",
    "If image dont show up see `serve_stream_processor.png`.\n",
    "<img src=\"serve_stream_processor.png\" width=\"800\" />\n",
    "\n",
    "\n",
    "## Alternatives Considered\n",
    "\n",
    "1. **Using Ray Tasks within a Deployment Handler**  \n",
    "\n",
    "```python\n",
    "indexing_worker.remote(video_id, \"https://www.youtube.com/watch?v=dQw4w9WgXcQ\")\n",
    "```\n",
    "\n",
    "While Ray is designed for distributed task execution, this approach fails because the indexing_worker task would share fate with the MyApp deployment. During service rollouts, Ray's garbage collection may cancel in-progress tasks.\n",
    "\n",
    "2. **Building a Custom Stream Processor**\n",
    "\n",
    "Developing a custom solution to support multiple message brokers would require significant effort. Celery already provides this functionality, making it the better choice.\n",
    "\n",
    "## Current Status\n",
    "Support for Celery within Ray Serve is experimental, and recommendations may evolve. This document serves as an initial exploration of the approach."
   ]
  },
  {
   "cell_type": "code",
   "execution_count": 1,
   "metadata": {},
   "outputs": [],
   "source": [
    "import asyncio\n",
    "import json\n",
    "import threading\n",
    "import time\n",
    "import uuid\n",
    "from celery import Celery\n",
    "from fastapi import FastAPI, Request\n",
    "from ray import serve\n",
    "import ray\n",
    "import redis\n",
    "import requests\n",
    "import numpy as np\n",
    "import matplotlib.pyplot as plt\n",
    "import inspect\n",
    "from ray.serve.handle import DeploymentHandle\n",
    "\n",
    "import logging\n",
    "logging.disable(logging.NOTSET)"
   ]
  },
  {
   "cell_type": "markdown",
   "metadata": {},
   "source": [
    "## What's Covered in This Notebook\n",
    "\n",
    "1. **Start Redis Server**  \n",
    "   - Set up a Redis instance to act as the message broker for Celery.\n",
    "\n",
    "2. **Define Two Ray Serve Applications**  \n",
    "   - **`IndexingTasksDeployment`**: Runs Celery workers and contains user-defined tasks. This inherits from serve provided `CeleryWorkerDeployment` class.\n",
    "   - **`MyApp`**: The main Ray Serve application that handles user facing API requests.\n",
    "\n",
    "3. **Deploy and Demonstrate Async Task Processing**  \n",
    "   - Deploy both applications within a single Ray Serve deployment.  \n",
    "   - Show how routes in `MyApp` can enqueue tasks in Celery for asynchronous execution.\n"
   ]
  },
  {
   "cell_type": "markdown",
   "metadata": {},
   "source": [
    "## Start Redis"
   ]
  },
  {
   "cell_type": "markdown",
   "metadata": {},
   "source": [
    "In our example we are using redis for both data broker and backend. In real world they can be different and both should be provided by the user."
   ]
  },
  {
   "cell_type": "code",
   "execution_count": 2,
   "metadata": {},
   "outputs": [
    {
     "name": "stdout",
     "output_type": "stream",
     "text": [
      "docker: Error response from daemon: Conflict. The container name \"/redis-stack-server\" is already in use by container \"3d9d3050d37b81325077cf4417083e2bf7b5c100ad60334fb54094e6e4faeabc\". You have to remove (or rename) that container to be able to reuse that name.\n",
      "See 'docker run --help'.\n"
     ]
    }
   ],
   "source": [
    "!docker run -d --name redis-stack-server -p 6379:6379 redis/redis-stack-server:latest"
   ]
  },
  {
   "cell_type": "code",
   "execution_count": 3,
   "metadata": {},
   "outputs": [],
   "source": [
    "redis_client = redis.Redis(host='localhost', port=6379, db=0)"
   ]
  },
  {
   "cell_type": "markdown",
   "metadata": {},
   "source": [
    "## Define the serve application"
   ]
  },
  {
   "cell_type": "code",
   "execution_count": 4,
   "metadata": {},
   "outputs": [
    {
     "name": "stderr",
     "output_type": "stream",
     "text": [
      "2025-03-27 14:25:55,275\tINFO worker.py:1843 -- Started a local Ray instance. View the dashboard at \u001b[1m\u001b[32mhttp://127.0.0.1:8266 \u001b[39m\u001b[22m\n"
     ]
    },
    {
     "data": {
      "application/vnd.jupyter.widget-view+json": {
       "model_id": "2c152a4c42e048e994c281e33eed839e",
       "version_major": 2,
       "version_minor": 0
      },
      "text/html": [
       "<div class=\"lm-Widget p-Widget lm-Panel p-Panel jp-Cell-outputWrapper\">\n",
       "    <div style=\"margin-left: 50px;display: flex;flex-direction: row;align-items: center\">\n",
       "        <div class=\"jp-RenderedHTMLCommon\" style=\"display: flex; flex-direction: row;\">\n",
       "  <svg viewBox=\"0 0 567 224\" fill=\"none\" xmlns=\"http://www.w3.org/2000/svg\" style=\"height: 3em;\">\n",
       "    <g clip-path=\"url(#clip0_4338_178347)\">\n",
       "        <path d=\"M341.29 165.561H355.29L330.13 129.051C345.63 123.991 354.21 112.051 354.21 94.2307C354.21 71.3707 338.72 58.1807 311.88 58.1807H271V165.561H283.27V131.661H311.8C314.25 131.661 316.71 131.501 319.01 131.351L341.25 165.561H341.29ZM283.29 119.851V70.0007H311.82C331.3 70.0007 342.34 78.2907 342.34 94.5507C342.34 111.271 331.34 119.861 311.82 119.861L283.29 119.851ZM451.4 138.411L463.4 165.561H476.74L428.74 58.1807H416L367.83 165.561H380.83L392.83 138.411H451.4ZM446.19 126.601H398L422 72.1407L446.24 126.601H446.19ZM526.11 128.741L566.91 58.1807H554.35L519.99 114.181L485.17 58.1807H472.44L514.01 129.181V165.541H526.13V128.741H526.11Z\" fill=\"var(--jp-ui-font-color0)\"/>\n",
       "        <path d=\"M82.35 104.44C84.0187 97.8827 87.8248 92.0678 93.1671 87.9146C98.5094 83.7614 105.083 81.5067 111.85 81.5067C118.617 81.5067 125.191 83.7614 130.533 87.9146C135.875 92.0678 139.681 97.8827 141.35 104.44H163.75C164.476 101.562 165.622 98.8057 167.15 96.2605L127.45 56.5605C121.071 60.3522 113.526 61.6823 106.235 60.3005C98.9443 58.9187 92.4094 54.9203 87.8602 49.0574C83.3109 43.1946 81.0609 35.8714 81.5332 28.4656C82.0056 21.0599 85.1679 14.0819 90.4252 8.8446C95.6824 3.60726 102.672 0.471508 110.08 0.0272655C117.487 -0.416977 124.802 1.86091 130.647 6.4324C136.493 11.0039 140.467 17.5539 141.821 24.8501C143.175 32.1463 141.816 39.6859 138 46.0505L177.69 85.7505C182.31 82.9877 187.58 81.4995 192.962 81.4375C198.345 81.3755 203.648 82.742 208.33 85.3976C213.012 88.0532 216.907 91.9029 219.616 96.5544C222.326 101.206 223.753 106.492 223.753 111.875C223.753 117.258 222.326 122.545 219.616 127.197C216.907 131.848 213.012 135.698 208.33 138.353C203.648 141.009 198.345 142.375 192.962 142.313C187.58 142.251 182.31 140.763 177.69 138L138 177.7C141.808 184.071 143.155 191.614 141.79 198.91C140.424 206.205 136.44 212.75 130.585 217.313C124.731 221.875 117.412 224.141 110.004 223.683C102.596 223.226 95.6103 220.077 90.3621 214.828C85.1139 209.58 81.9647 202.595 81.5072 195.187C81.0497 187.779 83.3154 180.459 87.878 174.605C92.4405 168.751 98.9853 164.766 106.281 163.401C113.576 162.035 121.119 163.383 127.49 167.19L167.19 127.49C165.664 124.941 164.518 122.182 163.79 119.3H141.39C139.721 125.858 135.915 131.673 130.573 135.826C125.231 139.98 118.657 142.234 111.89 142.234C105.123 142.234 98.5494 139.98 93.2071 135.826C87.8648 131.673 84.0587 125.858 82.39 119.3H60C58.1878 126.495 53.8086 132.78 47.6863 136.971C41.5641 141.163 34.1211 142.972 26.7579 142.059C19.3947 141.146 12.6191 137.574 7.70605 132.014C2.79302 126.454 0.0813599 119.29 0.0813599 111.87C0.0813599 104.451 2.79302 97.2871 7.70605 91.7272C12.6191 86.1673 19.3947 82.5947 26.7579 81.6817C34.1211 80.7686 41.5641 82.5781 47.6863 86.7696C53.8086 90.9611 58.1878 97.2456 60 104.44H82.35ZM100.86 204.32C103.407 206.868 106.759 208.453 110.345 208.806C113.93 209.159 117.527 208.258 120.522 206.256C123.517 204.254 125.725 201.276 126.771 197.828C127.816 194.38 127.633 190.677 126.253 187.349C124.874 184.021 122.383 181.274 119.205 179.577C116.027 177.88 112.359 177.337 108.826 178.042C105.293 178.746 102.113 180.654 99.8291 183.44C97.5451 186.226 96.2979 189.718 96.3 193.32C96.2985 195.364 96.7006 197.388 97.4831 199.275C98.2656 201.163 99.4132 202.877 100.86 204.32ZM204.32 122.88C206.868 120.333 208.453 116.981 208.806 113.396C209.159 109.811 208.258 106.214 206.256 103.219C204.254 100.223 201.275 98.0151 197.827 96.97C194.38 95.9249 190.676 96.1077 187.348 97.4873C184.02 98.8669 181.274 101.358 179.577 104.536C177.879 107.714 177.337 111.382 178.041 114.915C178.746 118.448 180.653 121.627 183.439 123.911C186.226 126.195 189.717 127.443 193.32 127.44C195.364 127.443 197.388 127.042 199.275 126.259C201.163 125.476 202.878 124.328 204.32 122.88ZM122.88 19.4205C120.333 16.8729 116.981 15.2876 113.395 14.9347C109.81 14.5817 106.213 15.483 103.218 17.4849C100.223 19.4868 98.0146 22.4654 96.9696 25.9131C95.9245 29.3608 96.1073 33.0642 97.4869 36.3922C98.8665 39.7202 101.358 42.4668 104.535 44.1639C107.713 45.861 111.381 46.4036 114.914 45.6992C118.447 44.9949 121.627 43.0871 123.911 40.301C126.195 37.515 127.442 34.0231 127.44 30.4205C127.44 28.3772 127.038 26.3539 126.255 24.4664C125.473 22.5788 124.326 20.8642 122.88 19.4205ZM19.42 100.86C16.8725 103.408 15.2872 106.76 14.9342 110.345C14.5813 113.93 15.4826 117.527 17.4844 120.522C19.4863 123.518 22.4649 125.726 25.9127 126.771C29.3604 127.816 33.0638 127.633 36.3918 126.254C39.7198 124.874 42.4664 122.383 44.1635 119.205C45.8606 116.027 46.4032 112.359 45.6988 108.826C44.9944 105.293 43.0866 102.114 40.3006 99.8296C37.5145 97.5455 34.0227 96.2983 30.42 96.3005C26.2938 96.3018 22.337 97.9421 19.42 100.86ZM100.86 100.86C98.3125 103.408 96.7272 106.76 96.3742 110.345C96.0213 113.93 96.9226 117.527 98.9244 120.522C100.926 123.518 103.905 125.726 107.353 126.771C110.8 127.816 114.504 127.633 117.832 126.254C121.16 124.874 123.906 122.383 125.604 119.205C127.301 116.027 127.843 112.359 127.139 108.826C126.434 105.293 124.527 102.114 121.741 99.8296C118.955 97.5455 115.463 96.2983 111.86 96.3005C109.817 96.299 107.793 96.701 105.905 97.4835C104.018 98.2661 102.303 99.4136 100.86 100.86Z\" fill=\"#00AEEF\"/>\n",
       "    </g>\n",
       "    <defs>\n",
       "        <clipPath id=\"clip0_4338_178347\">\n",
       "            <rect width=\"566.93\" height=\"223.75\" fill=\"white\"/>\n",
       "        </clipPath>\n",
       "    </defs>\n",
       "  </svg>\n",
       "</div>\n",
       "\n",
       "        <table class=\"jp-RenderedHTMLCommon\" style=\"border-collapse: collapse;color: var(--jp-ui-font-color1);font-size: var(--jp-ui-font-size1);\">\n",
       "    <tr>\n",
       "        <td style=\"text-align: left\"><b>Python version:</b></td>\n",
       "        <td style=\"text-align: left\"><b>3.11.11</b></td>\n",
       "    </tr>\n",
       "    <tr>\n",
       "        <td style=\"text-align: left\"><b>Ray version:</b></td>\n",
       "        <td style=\"text-align: left\"><b>2.44.0</b></td>\n",
       "    </tr>\n",
       "    <tr>\n",
       "    <td style=\"text-align: left\"><b>Dashboard:</b></td>\n",
       "    <td style=\"text-align: left\"><b><a href=\"http://127.0.0.1:8266\" target=\"_blank\">http://127.0.0.1:8266</a></b></td>\n",
       "</tr>\n",
       "\n",
       "</table>\n",
       "\n",
       "    </div>\n",
       "</div>\n"
      ],
      "text/plain": [
       "RayContext(dashboard_url='127.0.0.1:8266', python_version='3.11.11', ray_version='2.44.0', ray_commit='36bed82414635fdf15aad132280c4dc16c2224d3')"
      ]
     },
     "execution_count": 4,
     "metadata": {},
     "output_type": "execute_result"
    }
   ],
   "source": [
    "ray.init(ignore_reinit_error=True, log_to_driver=False)"
   ]
  },
  {
   "cell_type": "code",
   "execution_count": 5,
   "metadata": {},
   "outputs": [],
   "source": [
    "fastapi_app = FastAPI()\n",
    "\n",
    "# Create Celery application\n",
    "celery_app = Celery(\n",
    "    'task_queue', \n",
    "    broker_url='redis://localhost',\n",
    "    backend='redis://localhost'\n",
    ")\n",
    "celery_app.control.purge()\n",
    "# prefork is not supported in serve deployment actor because we want the worker (and tasks)\n",
    "# to be in the same process as the replica actor.\n",
    "# this means that cpu intensive tasks will block the main thread\n",
    "configs = {\n",
    "    'worker_pool': 'threads',\n",
    "    'worker_concurrency': 10,\n",
    "}\n",
    "celery_app.conf.update(configs)"
   ]
  },
  {
   "cell_type": "markdown",
   "metadata": {},
   "source": [
    "Code in the following cell should go into ray serve as a python module for users to inherit"
   ]
  },
  {
   "cell_type": "code",
   "execution_count": 6,
   "metadata": {},
   "outputs": [],
   "source": [
    "def task_handler(func):\n",
    "    func.is_task_handler = True  # Mark the function\n",
    "    return func\n",
    "\n",
    "class CeleryWorkerDeployment:\n",
    "    \"\"\"\n",
    "    This is a base class that users will inherit from to create their own celery worker deployments.\n",
    "    \"\"\"\n",
    "    def __init__(self, celery_app: Celery):\n",
    "        self.celery_app = celery_app\n",
    "        assert self.celery_app.conf.get('worker_pool') == 'threads', \"Only threads pool is supported in serve deployment actor\"\n",
    "        self.celery_worker = celery_app.Worker()\n",
    "        def run_worker():\n",
    "            # starting celery worker here so that its part of the same process as the replica actor\n",
    "            self.celery_worker.start()\n",
    "        \n",
    "        # Find and register all methods marked with @task_handler\n",
    "        for name, method in inspect.getmembers(self, predicate=inspect.ismethod):\n",
    "            if getattr(method, \"is_task_handler\", False):\n",
    "                celery_app.task(method, name=name)\n",
    "                print(f\"Registered task: {name}\")\n",
    "        \n",
    "        self.celery_worker_thread = threading.Thread(target=run_worker)\n",
    "        self.celery_worker_thread.start()\n",
    "    \n",
    "    def __del__(self):\n",
    "        # allow the worker to finish all the tasks that are being processed.\n",
    "        # This does not guarantee that all tasks in the queue are finished.\n",
    "        print(\"stopping worker, will wait for all tasks to finish\")\n",
    "        self.celery_worker.stop()\n",
    "        self.celery_worker_thread.join()"
   ]
  },
  {
   "cell_type": "code",
   "execution_count": 7,
   "metadata": {},
   "outputs": [],
   "source": [
    "@serve.deployment(\n",
    "    name=\"indexing_tasks_deployment\",\n",
    "    num_replicas=5,\n",
    ")\n",
    "class IndexingTasksDeployment(CeleryWorkerDeployment):\n",
    "    \"\"\"\n",
    "    This is application code that users will write.\n",
    "    \"\"\"\n",
    "    def __init__(self, celery_app: Celery):\n",
    "        super().__init__(celery_app)\n",
    "\n",
    "        # create a large numpy array\n",
    "        self.arr = np.random.rand(1000000)\n",
    "        self.redis_client = redis.Redis(host='localhost', port=6379, db=0)\n",
    "\n",
    "    @task_handler\n",
    "    def document_indexing_task(self, document_id: str):\n",
    "        \"\"\"\n",
    "        blocking IO operations are allowed here since they are running in a thread from ThreadPoolExecutor\n",
    "        \"\"\"\n",
    "\n",
    "        # set the status to pending\n",
    "        job = json.loads(self.redis_client.get(document_id))\n",
    "        job[\"status\"] = \"pending\"\n",
    "        self.redis_client.set(document_id, json.dumps(job))\n",
    "\n",
    "        # task has access to replica actor object because tasks are running in the same process\n",
    "        # so there is no serialization overhead\n",
    "        s = np.sum(self.arr)\n",
    "\n",
    "        # example of making a http request\n",
    "        # requests.get(f\"http://localhost:8000/my_app/index_document_sync?document_id={document_id}\").json()\n",
    "\n",
    "        # example of calling another deployment\n",
    "        # call the deployment\n",
    "        return serve.get_app_handle(\"my_app\").index_document.remote(document_id).result()\n",
    "    "
   ]
  },
  {
   "cell_type": "code",
   "execution_count": 8,
   "metadata": {},
   "outputs": [],
   "source": [
    "@serve.deployment(\n",
    "    name=\"my_app\",\n",
    "    # since celery tasks are calling into `index_document_sync`, set this parameter appropriately.\n",
    "    max_ongoing_requests=100\n",
    ")\n",
    "@serve.ingress(fastapi_app)\n",
    "class MyApp:\n",
    "    \"\"\"\n",
    "    This is application code that users will write.\n",
    "    \"\"\"\n",
    "    def __init__(self):\n",
    "        self.redis_client = redis.Redis(host='localhost', port=6379, db=0)\n",
    "\n",
    "    @fastapi_app.get(\"/index_document_async\")\n",
    "    def index_document_async(self, document_id: str):\n",
    "\n",
    "        # async call to celery to enqueue the task\n",
    "        # task name is the name of the function decorated with @task_handler in the celery worker deployment\n",
    "        celery_result = celery_app.send_task(name=\"document_indexing_task\", args=(document_id,))\n",
    "\n",
    "        \"\"\"\n",
    "        In order to track the status of the task, the user may choose to make an entry into their own database\n",
    "        about the request. The idea is that the caller will poll the status of the task from their own database.\n",
    "\n",
    "        Serve does not provide any built-in support for task status tracking because needs of different users will vary.\n",
    "        \"\"\"\n",
    "        response = {\"status\": \"not_started\", \"start_time\": time.time(), \"celery_task_id\": celery_result.id}\n",
    "        self.redis_client.set(document_id, json.dumps(response))\n",
    "        return response\n",
    "\n",
    "    @fastapi_app.get(\"/index_document_sync\")\n",
    "    async def index_document(self, document_id: str):\n",
    "        \"\"\"\n",
    "        This is a heavyweight operation that will be run as part of task processing.\n",
    "        \"\"\"\n",
    "        await asyncio.sleep(5)\n",
    "        # update the status to done and timestamp and calculate the time taken\n",
    "        data = json.loads(self.redis_client.get(document_id))\n",
    "        start_time = data[\"start_time\"]\n",
    "        end_time = time.time()\n",
    "        time_taken = end_time - start_time\n",
    "\n",
    "        data[\"status\"] = \"done\"\n",
    "        data[\"time_taken\"] = time_taken\n",
    "        data[\"end_time\"] = end_time\n",
    "\n",
    "        self.redis_client.set(document_id, json.dumps(data))\n",
    "        return f\"Document {document_id} indexed in {time_taken} seconds\"\n",
    "    \n",
    "    @fastapi_app.get(\"/index_document_status\")\n",
    "    def index_document_status(self, document_id: str):\n",
    "        \"\"\"\n",
    "        Status tracking is left to the user. This is just an example of how to track the status of the task.\n",
    "        This is just an example of how to track the status of the task, your mileage may vary.\n",
    "        \"\"\"\n",
    "\n",
    "        # get the status from the database, this status is tracked by user. This is probably the most common way users will track the status of the task\n",
    "        db_status = json.loads(self.redis_client.get(document_id))\n",
    "\n",
    "        # but if the user wants to track the status of the task in celery, they can do so by calling this endpoint\n",
    "        # this code exists for demonstration purposes\n",
    "        celery_result_async = celery_app.AsyncResult(db_status[\"celery_task_id\"])\n",
    "        if celery_result_async.successful():\n",
    "            # if the task is still running, calling get will block until the task is finished\n",
    "            celery_result = celery_result_async.get()\n",
    "        else:\n",
    "            celery_result = None\n",
    "\n",
    "        # return the status\n",
    "        return {\n",
    "            \"db_status\": db_status[\"status\"],\n",
    "            \"celery_status\": celery_result_async.status,\n",
    "            \"celery_result\": celery_result\n",
    "        }\n",
    "\n",
    "task_processor = IndexingTasksDeployment.bind(celery_app)\n",
    "app = MyApp.bind()\n"
   ]
  },
  {
   "cell_type": "code",
   "execution_count": 9,
   "metadata": {},
   "outputs": [
    {
     "name": "stderr",
     "output_type": "stream",
     "text": [
      "INFO 2025-03-27 14:25:57,063 serve 83722 -- Started Serve in namespace \"serve\".\n",
      "INFO 2025-03-27 14:25:58,178 serve 83722 -- Application 'my_app' is ready at http://127.0.0.1:8000/my_app.\n",
      "INFO 2025-03-27 14:25:58,182 serve 83722 -- Connecting to existing Serve app in namespace \"serve\". New http options will not be applied.\n",
      "INFO 2025-03-27 14:25:59,295 serve 83722 -- Application 'task_processor' is ready at http://127.0.0.1:8000/task_processor.\n",
      "INFO 2025-03-27 14:25:59,297 serve 83722 -- Started <ray.serve._private.router.SharedRouterLongPollClient object at 0x156e83c10>.\n"
     ]
    },
    {
     "data": {
      "text/plain": [
       "DeploymentHandle(deployment='indexing_tasks_deployment')"
      ]
     },
     "execution_count": 9,
     "metadata": {},
     "output_type": "execute_result"
    }
   ],
   "source": [
    "serve.run(app, name=\"my_app\", route_prefix=\"/my_app\")\n",
    "serve.run(task_processor, name=\"task_processor\", route_prefix=\"/task_processor\")"
   ]
  },
  {
   "cell_type": "markdown",
   "metadata": {},
   "source": [
    "## Make async Requests"
   ]
  },
  {
   "cell_type": "code",
   "execution_count": 10,
   "metadata": {},
   "outputs": [],
   "source": [
    "# create list of 30 document ids\n",
    "num_tasks = 300\n",
    "document_ids = [str(uuid.uuid4()) for _ in range(num_tasks)]\n",
    "# make 30 parallel requests to the task processor\n",
    "import requests\n",
    "import threading\n",
    "\n",
    "def make_request(document_id):\n",
    "    requests.get(f\"http://localhost:8000/my_app/index_document_async?document_id={document_id}\")    \n",
    "\n",
    "threads = []\n",
    "for document_id in document_ids:\n",
    "    thread = threading.Thread(target=make_request, args=(document_id,))\n",
    "    thread.start()\n",
    "    threads.append(thread)\n",
    "\n",
    "for thread in threads:\n",
    "    thread.join()"
   ]
  },
  {
   "cell_type": "markdown",
   "metadata": {},
   "source": [
    "## Poll for task status"
   ]
  },
  {
   "cell_type": "code",
   "execution_count": 11,
   "metadata": {},
   "outputs": [
    {
     "data": {
      "image/png": "[encoded data removed]",
      "text/plain": [
       "<Figure size 640x480 with 1 Axes>"
      ]
     },
     "metadata": {},
     "output_type": "display_data"
    }
   ],
   "source": [
    "def are_tasks_done(document_ids):\n",
    "    for document_id in document_ids:\n",
    "        response = requests.get(f\"http://localhost:8000/my_app/index_document_status?document_id={document_id}\").json()\n",
    "        if response[\"db_status\"] != \"done\":\n",
    "            return False\n",
    "    return True\n",
    "\n",
    "# wait until all tasks are done\n",
    "while not are_tasks_done(document_ids):\n",
    "    time.sleep(1)\n",
    "\n",
    "# plot the time taken for each task add\n",
    "time_taken = [json.loads(redis_client.get(document_id))[\"time_taken\"] for document_id in document_ids]\n",
    "plt.hist(time_taken, bins=100)\n",
    "plt.xlabel('Time Taken (seconds)')\n",
    "plt.ylabel('Number of Tasks')\n",
    "plt.title('Distribution of Task Processing Times')\n",
    "plt.show()\n"
   ]
  },
  {
   "cell_type": "markdown",
   "metadata": {},
   "source": [
    "Why did it take **50 seconds** for all tasks to complete?\n",
    "\n",
    "1. We queued **300 tasks**.  \n",
    "2. There are **5 Celery workers**, each running with a concurrency of **10** (i.e., **5 × 10 = 50** tasks can run in parallel).  \n",
    "3. Each task takes **5 seconds** to complete (`time.sleep(5)`).  \n",
    "4. Since **50 tasks run concurrently**, the total execution time is:  \n",
    "   $$\n",
    "   \\frac{300 \\text{ tasks}}{50 \\text{ concurrent workers}} \\times 5 \\text{ seconds} = 30 \\text{ seconds}\n",
    "   $$\n",
    "5. As expected, all tasks complete in **30 seconds**.\n"
   ]
  },
  {
   "cell_type": "code",
   "execution_count": 12,
   "metadata": {},
   "outputs": [
    {
     "data": {
      "text/plain": [
       "{'db_status': 'done',\n",
       " 'celery_status': 'SUCCESS',\n",
       " 'celery_result': 'Document 3e05210f-59de-4213-b6ea-bfaca4828eff indexed in 24.985047101974487 seconds'}"
      ]
     },
     "execution_count": 12,
     "metadata": {},
     "output_type": "execute_result"
    }
   ],
   "source": [
    "# get stutus\n",
    "requests.get(f\"http://localhost:8000/my_app/index_document_status?document_id={document_ids[-1]}\").json()"
   ]
  },
  {
   "cell_type": "code",
   "execution_count": 13,
   "metadata": {},
   "outputs": [
    {
     "name": "stdout",
     "output_type": "stream",
     "text": [
      "count of done tasks: 300, pending tasks: 0, not started tasks: 0\n"
     ]
    }
   ],
   "source": [
    "# get task status from redis for all tasks count status done\n",
    "count = 0\n",
    "pending = 0\n",
    "not_started = 0\n",
    "for document_id in document_ids:\n",
    "    job = json.loads(redis_client.get(document_id))\n",
    "    if job[\"status\"] == \"done\":\n",
    "        count += 1\n",
    "    elif job[\"status\"] == \"pending\":\n",
    "        pending += 1\n",
    "    else:\n",
    "        not_started += 1\n",
    "    \n",
    "print(f\"count of done tasks: {count}, pending tasks: {pending}, not started tasks: {not_started}\")"
   ]
  },
  {
   "cell_type": "markdown",
   "metadata": {},
   "source": [
    "As you can see from the histogram, all tasks finish around 5 seconds."
   ]
  },
  {
   "cell_type": "markdown",
   "metadata": {},
   "source": [
    "## Caveats, Considerations, and Recommendations\n",
    "\n",
    "1. **Task Delivery Guarantees Depend on the Message Broker**  \n",
    "   - Different message brokers offer varying guarantees. For example, **SQS provides strong delivery guarantees**, whereas **Redis does not**.  \n",
    "   - Refer to the [Celery documentation](https://docs.celeryq.dev/en/stable/getting-started/backends-and-brokers/) for broker and backend choices.\n",
    "\n",
    "2. **At-Least-Once Processing Is Configuration Dependent**  \n",
    "   - At-least-once processing in Celery depends on configuration parameters like:  \n",
    "     - `task_acks_late`  \n",
    "     - `task_acks_on_failure_or_timeout`  \n",
    "     - `task_publish_retry`  \n",
    "     - `task_publish_retry_policy`  \n",
    "   - By default, Celery **does not guarantee at-least-once processing**. See [Celery FAQ](https://docs.celeryq.dev/en/stable/faq.html#faq-acks-late-vs-retry) for details.\n",
    "\n",
    "3. **TaskProcessor Deployment Should Only Contain Celery Tasks** *(Recommendation, Not a Strict Requirement)*  \n",
    "   - This simplifies future autoscaling, as task processor scaling can be based purely on queue characteristics.  \n",
    "   - Mixing API routes in `TaskProcessor` could complicate autoscaling.\n",
    "\n",
    "4. **Avoid Including TaskProcessor in Deployment Chains**  \n",
    "   - There is **no need** to include `TaskProcessor` in any deployment chain since Celery tasks are invoked using:  \n",
    "     ```python\n",
    "     celery_app.send_task(\"document_indexing_task\", args=(document_id,))\n",
    "     ```  \n",
    "   - This remains true until we find a way to support:  \n",
    "     ```python\n",
    "     document_indexing_task.delay(document_id)\n",
    "     ```\n",
    "\n",
    "5. **Celery Workers Run Inside Ray Actors** *(Key Design Choice)*  \n",
    "   - Running Celery workers **inside Ray actors** ensures Ray manages their lifecycle, preventing zombie processes if an actor dies.  \n",
    "   - However, this limits the Celery execution pool to **threads**. See [Celery Worker Pools](https://celery.school/celery-worker-pools) for available options.\n",
    "\n",
    "6. **Concurrency Considerations**  \n",
    "   - **For I/O-intensive tasks:** Increase Celery worker concurrency.  \n",
    "   - **For CPU-intensive tasks:** Increasing thread concurrency **won’t help** due to the **GIL**. Instead, increase `num_replicas` on `TaskProcessor`.\n",
    "\n",
    "7. **Celery Tasks That Call Other Deployments May Be Bottlenecked**  \n",
    "   - If a Celery task invokes another Ray Serve deployment, **its concurrency is limited** by the `max_ongoing_requests` of the target deployment.\n",
    "\n",
    "8. **Status Tracking of Tasks**\n",
    "\n",
    "When tracking the status of asynchronous tasks queued in Celery, users have two options:  \n",
    "- **Using Celery Task ID:**  \n",
    "   Obtain the Celery task ID from `celery_app.send_task` and use `celery_app.AsyncResult(celery_task_id)` to poll for task status.  \n",
    "- **Custom Status Tracking:**  \n",
    "   Generate a unique task ID, store it in a database, and update the task status in the database when execution completes.  \n",
    "\n",
    "The choice between these approaches depends on the application's requirements. Since this falls outside the immediate scope of Ray Serve, we currently do not provide built-in status tracking. However, future support may be considered.\n",
    "\n",
    "9. **Backward and Forward Compatibility of Tasks During Application Rollouts**\n",
    "\n",
    "During an **up-then-down** deployment, where two versions of a task processor run concurrently, compatibility issues may arise.  \n",
    "\n",
    "**Best Practices for Version Rollouts**  \n",
    "- **Drain Pending Tasks Before Upgrading**  \n",
    "   Before starting Celery workers with a new application version, ensure that all tasks enqueued by the old version have been processed. If tasks remain in the queue and the new version modifies the task definition incompatibly, they may either:  \n",
    "     - Remain unprocessed in the queue.  \n",
    "     - Be incorrectly routed to an unintended task.\n",
    "   Ray serve does not guard against this, recommendation to user is not make such drastic change to the app. The only thing serve ensures is that, when a deployment actor is shutting down, it will do best effort to stop accepting new tasks and all ongoing tasks are completed before it shuts down.\n",
    "\n",
    "- **Use Stable Data Serialization**  \n",
    "   To safeguard against backward and forward compatibility issues, use structured encoding formats like **Protocol Buffers (protobuf)** or **Avro** for task parameters and return values.  \n",
    "\n",
    "**Task Persistence Considerations**  \n",
    "The duration a task remains in the queue depends on the **message broker configuration** and whether an `expires` value was set when the task was enqueued. By default, if no workers are available, tasks can sit in the queue indefinitely. This is particularly important when an application rollout **removes a task handler**, as unprocessed tasks may be left in an orphaned state.\n",
    "\n",
    "\n",
    "\n",
    "---\n",
    "\n",
    "## Future Work\n",
    "\n",
    "Currently, this solution is **DIY**, but future improvements should aim for deeper integration:\n",
    "\n",
    "1. **Move `TaskProcessor` Into Ray Serve**  \n",
    "   - Reduce boilerplate by abstracting Celery setup from users.\n",
    "\n",
    "2. **Enable Autoscaling for Celery Workers**  \n",
    "   - Implement autoscaling based on queue depth and processing load.\n",
    "\n",
    "3. **Harden the system for failiure conditions**\n",
    "   - when app rollout, do we loose messages in queue?\n",
    "   - what happens during replica fail over?"
   ]
  },
  {
   "cell_type": "code",
   "execution_count": 14,
   "metadata": {},
   "outputs": [],
   "source": [
    "serve.shutdown()\n",
    "ray.shutdown()"
   ]
  }
 ],
 "metadata": {
  "kernelspec": {
   "display_name": ".venv",
   "language": "python",
   "name": "python3"
  },
  "language_info": {
   "codemirror_mode": {
    "name": "ipython",
    "version": 3
   },
   "file_extension": ".py",
   "mimetype": "text/x-python",
   "name": "python",
   "nbconvert_exporter": "python",
   "pygments_lexer": "ipython3",
   "version": "3.11.11"
  }
 },
 "nbformat": 4,
 "nbformat_minor": 2
}
